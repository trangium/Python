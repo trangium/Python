{
 "cells": [
  {
   "cell_type": "code",
   "execution_count": 1,
   "metadata": {},
   "outputs": [],
   "source": [
    "pts = {'A': 1,\n",
    " 'B': 3,\n",
    " 'C': 3,\n",
    " 'D': 2,\n",
    " 'E': 1,\n",
    " 'F': 4,\n",
    " 'G': 2,\n",
    " 'H': 4,\n",
    " 'I': 1,\n",
    " 'J': 8,\n",
    " 'K': 5,\n",
    " 'L': 1,\n",
    " 'M': 3,\n",
    " 'N': 1,\n",
    " 'O': 1,\n",
    " 'P': 3,\n",
    " 'Q': 10,\n",
    " 'R': 1,\n",
    " 'S': 1,\n",
    " 'T': 1,\n",
    " 'U': 1,\n",
    " 'V': 4,\n",
    " 'W': 4,\n",
    " 'X': 8,\n",
    " 'Y': 4,\n",
    " 'Z': 10}"
   ]
  },
  {
   "cell_type": "code",
   "execution_count": 2,
   "metadata": {},
   "outputs": [],
   "source": [
    "\"\"\"\n",
    "multstr = '''9\t\t\t\t\t\t\t12\t9\t9\t9\t18\t9\t11\t9\n",
    "11\t2\t2\t2\t2\t6\t2\t6\t\t\t\t\t\t2\t\n",
    "9\t\t\t\t\t\t\t4\t\t\t\t\t\t2\t\n",
    "18\t\t\t\t\t\t\t5\t\t\t\t5\t\t2\t\n",
    "9\t\t\t\t4\t4\t4\t8\t4\t4\t4\t9\t\t2\t\n",
    "9\t\t\t\t\t\t\t4\t\t\t\t5\t\t6\t\n",
    "10\t1\t2\t1\t1\t1\t2\t5\t\t\t\t5\t\t2\t\n",
    "9\t\t\t\t\t\t\t9\t5\t5\t5\t12\t5\t7\t12\n",
    "10\t3\t\t\t\t\t\t4\t\t\t\t5\t\t\t9\n",
    "\t6\t\t\t\t\t\t\t\t\t\t5\t\t\t9\n",
    "\t2\t\t\t4\t4\t4\t4\t4\t4\t4\t9\t\t\t9\n",
    "\t2\t\t\t\t\t\t\t\t\t\t5\t\t\t18\n",
    "\t2\t\t\t\t\t\t\t4\t2\t2\t3\t2\t2\t11\n",
    "\t2\t\t\t\t\t\t\t\t\t\t\t\t\t9\n",
    "9\t11\t9\t18\t9\t9\t9\t9\t\t\t\t\t\t\t9'''\n",
    "mults = [line.split(\"\\t\") for line in multstr.split(\"\\n\")]\n",
    "\n",
    "capacitystr = '''F\t\t\t\t\t\t\tP\tU\tM\tP\tJ\tA\tC\tK\n",
    "R\t/\t/\t/\t/\t/\t/\t.\t\t\t\t\t\t/\t\n",
    "E\t\t\t\t\t\t\t.\t\t\t\t\t\t/\t\n",
    "Q\t\t\t\t\t\t\t.\t\t\t\t/\t\t/\t\n",
    "U\t\t\t\t/\t/\t/\t.\t/\t/\t/\t/\t\t/\t\n",
    "E\t\t\t\t\t\t\t.\t\t\t\t/\t\t/\t\n",
    "N\t/\t/\t/\t/\t/\t/\t.\t\t\t\t/\t\t/\t\n",
    "C\t\t\t\t\t\t\t,\t.\t.\t.\t,\t.\t.\tF\n",
    "Y\t/\t\t\t\t\t\t.\t\t\t\t/\t\t\tE\n",
    "\t/\t\t\t\t\t\t\t\t\t\t/\t\t\tT\n",
    "\t/\t\t\t/\t/\t/\t/\t/\t/\t/\t/\t\t\tO\n",
    "\t/\t\t\t\t\t\t\t\t\t\t/\t\t\tX\n",
    "\t/\t\t\t\t\t\t\t.\t.\t.\t.\t.\t.\tI\n",
    "\t/\t\t\t\t\t\t\t\t\t\t\t\t\tF\n",
    "W\tH\tI\tZ\tB\tA\tN\tG\t\t\t\t\t\t\tY'''\n",
    "\"\"\"\n",
    "\n",
    "\n",
    "\n",
    "\n",
    "multstr = '''9\t9\t11\t18\t9\t9\t9\t12\t\t\t\t\t\t\t9\n",
    "\t\t2\t\t\t\t\t6\t2\t6\t2\t2\t2\t2\t11\n",
    "\t\t2\t\t\t\t\t4\t\t\t\t\t\t\t9\n",
    "\t\t2\t\t\t\t\t5\t\t\t\t4\t\t\t18\n",
    "\t\t2\t\t4\t4\t4\t8\t4\t4\t4\t8\t\t\t9\n",
    "\t\t2\t\t\t\t\t4\t\t\t\t4\t\t\t9\n",
    "\t\t6\t4\t\t\t\t4\t\t\t\t4\t\t\t9\n",
    "9\t\t\t5\t\t\t\t10\t5\t5\t5\t11\t5\t7\t12\n",
    "9\t\t\t3\t\t\t\t4\t\t\t\t4\t\t2\t\n",
    "9\t\t\t3\t\t\t\t\t\t\t\t4\t\t6\t\n",
    "9\t\t\t4\t5\t5\t5\t5\t5\t5\t5\t9\t\t2\t\n",
    "18\t\t\t3\t\t\t\t\t\t\t\t4\t\t2\t\n",
    "9\t\t\t3\t\t\t\t\t\t\t\t\t\t2\t\n",
    "11\t2\t2\t2\t2\t6\t2\t\t\t\t\t\t\t2\t\n",
    "9\t\t\t\t\t\t\t9\t9\t9\t9\t18\t9\t11\t9'''\n",
    "mults = [line.split(\"\\t\") for line in multstr.split(\"\\n\")]"
   ]
  },
  {
   "cell_type": "code",
   "execution_count": 3,
   "metadata": {},
   "outputs": [],
   "source": [
    "capacitystr = '''V\tA\tN\tQ\tU\tI\tS\tH\t\t\t\t\t\t\tF\n",
    "\t\t2\t\t\t\t\t,\t2\t6\t2\t2\t2\t2\tL\n",
    "\t\t2\t\t\t\t\t,\t\t\t\t\t\t\tE\n",
    "\t\t2\t\t\t\t\t,\t\t\t\t4\t\t\tX\n",
    "\t\t2\t\t4\t4\t4\t,\t4\t4\t4\t8\t\t\tI\n",
    "\t\t2\t\t\t\t\t,\t\t\t\t4\t\t\tB\n",
    "\t\t6\t4\t\t\t\t,\t\t\t\t4\t\t\tL\n",
    "P\t\t\t5\t\t\t\t,\t,\t,\t,\t,\t,\t,\tY\n",
    "U\t\t\t3\t\t\t\t,\t\t\t\t4\t\t2\t\n",
    "M\t\t\t3\t\t\t\t\t\t\t\t4\t\t6\t\n",
    "P\t\t\t4\t5\t5\t5\t5\t5\t5\t5\t9\t\t2\t\n",
    "J\t\t\t3\t\t\t\t\t\t\t\t4\t\t2\t\n",
    "A\t\t\t3\t\t\t\t\t\t\t\t\t\t2\t\n",
    "C\t2\t2\t2\t2\t6\t2\t\t\t\t\t\t\t2\t\n",
    "K\t\t\t\t\t\t\tF\tR\tO\tW\tZ\tI\tL\tY'''\n",
    "capacity = [line.split(\"\\t\") for line in capacitystr.split(\"\\n\")]"
   ]
  },
  {
   "cell_type": "code",
   "execution_count": 4,
   "metadata": {},
   "outputs": [
    {
     "name": "stdout",
     "output_type": "stream",
     "text": [
      "  2x\t(18, 10)   \t  2x\t(18, 8)   \t  2x\t(12, 4)   \t  1x\t(11, 10)   \t\n",
      "  1x\t(11, 3)   \t  3x\t(11, 1)   \t  1x\t(10, 10)   \t  1x\t(9, 10)   \t\n",
      "  1x\t(9, 5)   \t  5x\t(9, 4)   \t  4x\t(9, 3)   \t  12x\t(9, 1)   \t\n",
      "  2x\t(8, 10)   \t  1x\t(7, 10)   \t  5x\t(6, 10)   \t  13x\t(5, 10)   \t\n",
      "  18x\t(4, 10)   \t  4x\t(3, 10)   \t  22x\t(2, 10)   \t"
     ]
    }
   ],
   "source": [
    "cells = [(2, 10), (2, 10)] # initialize with unplayed tile values\n",
    "for i in range(15):\n",
    "    for j in range(15):\n",
    "        if mults[i][j] and capacity[i][j]:\n",
    "            multiplier = int(mults[i][j])\n",
    "            if capacity[i][j] in pts:\n",
    "                capacitor = pts[capacity[i][j]]\n",
    "            else:\n",
    "                capacitor = 10\n",
    "            cells.append((multiplier, capacitor))\n",
    "cells.sort(reverse=True)\n",
    "\n",
    "def sc(cells):\n",
    "    current = None\n",
    "    count = 0\n",
    "    printc = 0\n",
    "    for cell in cells:\n",
    "        if cell != current:\n",
    "            if current:\n",
    "                printc += 1\n",
    "                print(\"  \", count, \"x\\t\", str(current)+\"   \", sep=\"\", end=\"\\t\")\n",
    "                if printc%4 == 0:\n",
    "                    print()\n",
    "            current = cell\n",
    "            count = 0\n",
    "        count += 1\n",
    "    print(\"  \", count, \"x\\t\", str(current)+\"   \", sep=\"\", end=\"\\t\")\n",
    "\n",
    "sc(cells)"
   ]
  },
  {
   "cell_type": "code",
   "execution_count": 5,
   "metadata": {},
   "outputs": [
    {
     "data": {
      "text/plain": [
       "100"
      ]
     },
     "execution_count": 5,
     "metadata": {},
     "output_type": "execute_result"
    }
   ],
   "source": [
    "len(cells)"
   ]
  },
  {
   "cell_type": "code",
   "execution_count": 6,
   "metadata": {},
   "outputs": [
    {
     "ename": "NameError",
     "evalue": "name 'test' is not defined",
     "output_type": "error",
     "traceback": [
      "\u001b[1;31m---------------------------------------------------------------------------\u001b[0m",
      "\u001b[1;31mNameError\u001b[0m                                 Traceback (most recent call last)",
      "Cell \u001b[1;32mIn[6], line 46\u001b[0m\n\u001b[0;32m     43\u001b[0m                 capacitor \u001b[38;5;241m=\u001b[39m \u001b[38;5;241m10\u001b[39m\n\u001b[0;32m     44\u001b[0m             cells\u001b[38;5;241m.\u001b[39mappend((multiplier, capacitor))\n\u001b[1;32m---> 46\u001b[0m startingValue \u001b[38;5;241m=\u001b[39m \u001b[43mtest\u001b[49m(cells)\n\u001b[0;32m     48\u001b[0m \u001b[38;5;28;01mdef\u001b[39;00m \u001b[38;5;21mtestMutation\u001b[39m(c, initial, final):\n\u001b[0;32m     49\u001b[0m     cells \u001b[38;5;241m=\u001b[39m \u001b[38;5;28mlist\u001b[39m(c)\n",
      "\u001b[1;31mNameError\u001b[0m: name 'test' is not defined"
     ]
    }
   ],
   "source": [
    "multstr = '''9\t\t\t\t\t\t\t12\t9\t9\t9\t18\t11\t9\t9\n",
    "11\t2\t2\t2\t2\t6\t2\t7\t\t\t\t\t2\t\t\n",
    "9\t\t\t\t\t\t\t5\t\t\t\t\t2\t\t\n",
    "18\t\t\t5\t9\t5\t5\t12\t5\t5\t9\t5\t3\t\t\n",
    "9\t\t\t\t4\t\t\t5\t\t\t4\t\t2\t\t\n",
    "9\t\t\t\t4\t\t\t5\t\t\t4\t\t2\t\t\n",
    "9\t\t\t\t4\t\t\t5\t\t\t5\t4\t5\t\t\n",
    "12\t6\t4\t5\t8\t4\t4\t9\t4\t\t5\t7\t\t\t9\n",
    "\t2\t\t\t4\t\t\t\t\t\t5\t4\t\t\t9\n",
    "\t6\t\t\t4\t\t\t\t\t\t5\t4\t\t\t9\n",
    "\t2\t\t\t4\t\t\t\t\t\t5\t4\t\t\t9\n",
    "\t2\t\t\t\t\t\t\t\t\t\t3\t\t\t18\n",
    "\t2\t\t\t\t\t\t\t\t\t\t3\t\t\t9\n",
    "\t2\t\t\t\t\t\t\t2\t6\t2\t3\t2\t2\t11\n",
    "9\t11\t9\t18\t9\t9\t9\t9\t\t\t\t\t\t\t9'''\n",
    "mults = [line.split(\"\\t\") for line in multstr.split(\"\\n\")]\n",
    "\n",
    "capacitystr = '''V\t\t\t\t\t\t\tP\tU\tM\tP\tJ\tA\tC\tK\n",
    "A\t2\t2\t2\t2\t6\t2\tR\t\t\t\t\t2\t\t\n",
    "N\t\t\t\t\t\t\tE\t\t\t\t\t2\t\t\n",
    "Q\t\t\tO\tV\tE\tR\tW\tE\tA\tR\tY\t3\t\t\n",
    "U\t\t\t\t4\t\t\tE\t\t\t4\t\t2\t\t\n",
    "I\t\t\t\t4\t\t\tI\t\t\t4\t\t2\t\t\n",
    "S\t\t\t\t4\t\t\tG\t\t\t5\t4\t5\t\t\n",
    "H\tA\tG\tG\tA\tD\tA\tH\tS\t\t5\t7\t\t\tF\n",
    "\t2\t\t\t4\t\t\t\t\t\t5\t4\t\t\tR\n",
    "\t6\t\t\t4\t\t\t\t\t\t5\t4\t\t\tO\n",
    "\t2\t\t\t4\t\t\t\t\t\t5\t4\t\t\tW\n",
    "\t2\t\t\t\t\t\t\t\t\t\t3\t\t\tZ\n",
    "\t2\t\t\t\t\t\t\t\t\t\t3\t\t\tI\n",
    "\t2\t\t\t\t\t\t\t2\t6\t2\t3\t2\t2\tL\n",
    "F\tL\tE\tX\tI\tB\tL\tY\t\t\t\t\t\t\tY'''\n",
    "capacity = [line.split(\"\\t\") for line in capacitystr.split(\"\\n\")]\n",
    "\n",
    "cells = [(2, 10), (2, 10)] # initialize with unplayed tile values\n",
    "for i in range(15):\n",
    "    for j in range(15):\n",
    "        if mults[i][j] and capacity[i][j]:\n",
    "            multiplier = int(mults[i][j])\n",
    "            if capacity[i][j] in pts:\n",
    "                capacitor = pts[capacity[i][j]]\n",
    "            else:\n",
    "                capacitor = 10\n",
    "            cells.append((multiplier, capacitor))\n",
    "\n",
    "startingValue = test(cells)\n",
    "\n",
    "def testMutation(c, initial, final):\n",
    "    cells = list(c)\n",
    "    cells[cells.index(initial)] = final\n",
    "    cells.sort(reverse=True)\n",
    "\n",
    "    total = 700 # score from bingos\n",
    "    ptcts = {10: 2, 8: 2, 5: 1, 4: 10, 3: 8, 2: 7, 1: 68, 0: 2}\n",
    "    for cell in cells:\n",
    "        multiplier = cell[0]\n",
    "        capacitor = cell[1]\n",
    "        ptval = max(pt for pt in ptcts if pt <= capacitor)\n",
    "        total += ptval * multiplier\n",
    "        ptcts[ptval] -= 1\n",
    "        if ptcts[ptval] == 0:\n",
    "            del ptcts[ptval]\n",
    "\n",
    "    return total - startingValue\n",
    "\n",
    "print(\"   \\t\\t    MB-Val  MB-Capacity\")\n",
    "for cell in sorted(list(set(cells))):\n",
    "    print(\"   \", f'{cell}   ', testMutation(cells, cell, (cell[0]+1, cell[1])), testMutation(cells, cell, (cell[0], cell[1]+1)), sep=\"\\t\")\n",
    "print()\n",
    "# sc(sorted(cells, reverse=True))"
   ]
  },
  {
   "cell_type": "code",
   "execution_count": null,
   "metadata": {},
   "outputs": [
    {
     "name": "stdout",
     "output_type": "stream",
     "text": [
      "  2x\t(18, 10)   \t  2x\t(18, 8)   \t  1x\t(12, 4)   \t  1x\t(12, 3)   \t\n",
      "  1x\t(12, 2)   \t  1x\t(11, 4)   \t  1x\t(11, 3)   \t  2x\t(11, 1)   \t\n",
      "  1x\t(10, 4)   \t  1x\t(10, 1)   \t  2x\t(9, 10)   \t  1x\t(9, 5)   \t\n",
      "  4x\t(9, 4)   \t  4x\t(9, 3)   \t  2x\t(9, 2)   \t  11x\t(9, 1)   \t\n",
      "  1x\t(8, 2)   \t  1x\t(7, 1)   \t  3x\t(6, 10)   \t  1x\t(6, 1)   \t\n",
      "  6x\t(5, 10)   \t  1x\t(5, 3)   \t  5x\t(5, 1)   \t  13x\t(4, 10)   \t\n",
      "  4x\t(4, 1)   \t  1x\t(3, 10)   \t  1x\t(3, 1)   \t  18x\t(2, 10)   \t\n",
      "  4x\t(2, 1)   \t  4x\t(1, 10)   \t"
     ]
    }
   ],
   "source": [
    "sc(sorted(cells, reverse=True))"
   ]
  },
  {
   "cell_type": "code",
   "execution_count": null,
   "metadata": {},
   "outputs": [],
   "source": [
    "def test(cells):\n",
    "    total = 700 # score from bingos\n",
    "    ptcts = {10: 2, 8: 2, 5: 1, 4: 10, 3: 8, 2: 7, 1: 68, 0: 2}\n",
    "    for cell in sorted(cells, reverse=True):\n",
    "        multiplier = cell[0]\n",
    "        capacitor = cell[1]\n",
    "        ptval = max(pt for pt in ptcts if pt <= capacitor)\n",
    "        total += ptval * multiplier\n",
    "        ptcts[ptval] -= 1\n",
    "        if ptcts[ptval] == 0:\n",
    "            del ptcts[ptval]\n",
    "\n",
    "    return total"
   ]
  },
  {
   "cell_type": "code",
   "execution_count": null,
   "metadata": {},
   "outputs": [
    {
     "data": {
      "text/plain": [
       "2390"
      ]
     },
     "execution_count": 388,
     "metadata": {},
     "output_type": "execute_result"
    }
   ],
   "source": [
    "test(cells)"
   ]
  },
  {
   "cell_type": "code",
   "execution_count": null,
   "metadata": {},
   "outputs": [
    {
     "data": {
      "text/plain": [
       "-8"
      ]
     },
     "execution_count": 203,
     "metadata": {},
     "output_type": "execute_result"
    }
   ],
   "source": [
    "# One-To-Two: 4\n",
    "# Two-To-Three: 3.5\n",
    "# Three-To-Four: 3\n",
    "# Four-To-Five: 0\n",
    "\n",
    "c = list(cells)\n",
    "\n",
    "c[c.index((4, 10))] = (2, 10)\n",
    "c[c.index((4, 10))] = (2, 10)\n",
    "c[c.index((4, 10))] = (2, 10)\n",
    "c[c.index((4, 10))] = (2, 10)\n",
    "c[c.index((4, 10))] = (2, 10)\n",
    "c[c.index((4, 10))] = (2, 10)\n",
    "c[c.index((4, 10))] = (2, 10)\n",
    "c[c.index((9, 10))] = (5, 10)\n",
    "c[c.index((18, 10))] = (20, 10)\n",
    "\n",
    "# c[c.index((18, 1))] = (9, 1)\n",
    "\n",
    "test(c)-test(cells)"
   ]
  }
 ],
 "metadata": {
  "kernelspec": {
   "display_name": "Python 3",
   "language": "python",
   "name": "python3"
  },
  "language_info": {
   "codemirror_mode": {
    "name": "ipython",
    "version": 3
   },
   "file_extension": ".py",
   "mimetype": "text/x-python",
   "name": "python",
   "nbconvert_exporter": "python",
   "pygments_lexer": "ipython3",
   "version": "3.11.2"
  }
 },
 "nbformat": 4,
 "nbformat_minor": 2
}
